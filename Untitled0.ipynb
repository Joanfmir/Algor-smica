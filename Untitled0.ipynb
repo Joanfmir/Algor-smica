{
  "nbformat": 4,
  "nbformat_minor": 0,
  "metadata": {
    "colab": {
      "provenance": [],
      "toc_visible": true,
      "authorship_tag": "ABX9TyN+XftA+5AXEJ7Ei+Ahsm3W",
      "include_colab_link": true
    },
    "kernelspec": {
      "name": "python3",
      "display_name": "Python 3"
    },
    "language_info": {
      "name": "python"
    }
  },
  "cells": [
    {
      "cell_type": "markdown",
      "metadata": {
        "id": "view-in-github",
        "colab_type": "text"
      },
      "source": [
        "<a href=\"https://colab.research.google.com/github/Joanfmir/Algor-smica/blob/main/Untitled0.ipynb\" target=\"_parent\"><img src=\"https://colab.research.google.com/assets/colab-badge.svg\" alt=\"Open In Colab\"/></a>"
      ]
    },
    {
      "cell_type": "code",
      "execution_count": null,
      "metadata": {
        "colab": {
          "base_uri": "https://localhost:8080/"
        },
        "id": "LB1RmVtbyGZE",
        "outputId": "3392ea9b-5bc9-468f-aa97-cac0fe8509c9"
      },
      "outputs": [
        {
          "output_type": "stream",
          "name": "stdout",
          "text": [
            "Hola\n"
          ]
        }
      ],
      "source": [
        "def hola():\n",
        "  print(\"Hola\")\n",
        "hola()\n"
      ]
    },
    {
      "cell_type": "code",
      "source": [
        "def hola(persona):\n",
        "  print(\"hola\", persona)\n",
        "hola(\"Joan\")"
      ],
      "metadata": {
        "colab": {
          "base_uri": "https://localhost:8080/"
        },
        "id": "48xtTb6zyYqZ",
        "outputId": "7bbcd74c-9ff4-4d77-d2ea-797e0b87f96c"
      },
      "execution_count": null,
      "outputs": [
        {
          "output_type": "stream",
          "name": "stdout",
          "text": [
            "hola Joan\n"
          ]
        }
      ]
    },
    {
      "cell_type": "code",
      "source": [
        "def main():\n",
        "  print(\"Aquest programa nsq caòtic\")\n",
        "  x = input(\"Entra un numero entre 1 i 0: \")\n",
        "  x = float(x)\n",
        "  for i in range(10):\n",
        "    x = 3.9 * x * (1-x)\n",
        "    print(x)\n",
        "main()"
      ],
      "metadata": {
        "colab": {
          "base_uri": "https://localhost:8080/"
        },
        "id": "ueAwW62qyq75",
        "outputId": "b89d7546-5cd6-4a1e-e5a8-469444d0824f"
      },
      "execution_count": null,
      "outputs": [
        {
          "output_type": "stream",
          "name": "stdout",
          "text": [
            "Aquest programa nsq caòtic\n",
            "Entra un numero entre 1 i 0: 0.5\n",
            "0.975\n",
            "0.09506250000000008\n",
            "0.33549992226562525\n",
            "0.8694649252590003\n",
            "0.44263310911310905\n",
            "0.962165255336889\n",
            "0.1419727793616139\n",
            "0.4750843861996143\n",
            "0.9725789275369049\n",
            "0.1040097132674683\n"
          ]
        }
      ]
    },
    {
      "cell_type": "code",
      "source": [],
      "metadata": {
        "id": "krfXO9oWg5f4"
      },
      "execution_count": null,
      "outputs": []
    }
  ]
}